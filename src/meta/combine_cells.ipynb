{
 "cells": [
  {
   "cell_type": "code",
   "execution_count": 3,
   "metadata": {},
   "outputs": [],
   "source": [
    "import pandas as pd\n",
    "import re\n",
    "\n",
    "# Load the CSV without assuming it's correctly structured\n",
    "df = pd.read_csv(\"src/data/pdf_out.csv\", header=None, skip_blank_lines=False)\n",
    "\n",
    "# List to store fixed rows\n",
    "fixed_rows = []\n",
    "current_row = None  # To hold the current row being constructed\n",
    "\n",
    "# Regular expression pattern to match numbers ending in .0 (e.g., 66.0, 1.0, 123.0, etc.)\n",
    "pattern = re.compile(r\"^\\d+\\.0$\")\n",
    "\n",
    "for _, row in df.iterrows():\n",
    "    first_value = str(row[0])\n",
    "    \n",
    "    # If we encounter a new row delimiter\n",
    "    if pattern.match(first_value):\n",
    "        # If there's an existing row, finalize and add it to fixed_rows\n",
    "        if current_row is not None:\n",
    "            fixed_rows.append(current_row)\n",
    "        \n",
    "        # Initialize the new row\n",
    "        current_row = row.tolist()\n",
    "    else:\n",
    "        # Concatenate each column with the row above it\n",
    "        for i in range(len(row)):\n",
    "            if pd.notna(row[i]):  # Skip NaN values\n",
    "                # Append the current row's value to the corresponding cell in current_row\n",
    "                current_row[i] = f\"{current_row[i]} {row[i]}\" if current_row[i] else str(row[i])\n",
    "\n",
    "# Append the last accumulated row if it exists\n",
    "if current_row is not None:\n",
    "    fixed_rows.append(current_row)\n",
    "\n",
    "# Convert the list of fixed rows into a DataFrame\n",
    "fixed_df = pd.DataFrame(fixed_rows)\n",
    "\n",
    "# Save to a corrected CSV or TSV\n",
    "fixed_df.to_csv(\"corrected_output.tsv\", index=False, sep=\"\\t\")  # For TSV, use sep=\"\\t\"\n"
   ]
  }
 ],
 "metadata": {
  "kernelspec": {
   "display_name": "Python 3",
   "language": "python",
   "name": "python3"
  },
  "language_info": {
   "codemirror_mode": {
    "name": "ipython",
    "version": 3
   },
   "file_extension": ".py",
   "mimetype": "text/x-python",
   "name": "python",
   "nbconvert_exporter": "python",
   "pygments_lexer": "ipython3",
   "version": "3.7.14"
  }
 },
 "nbformat": 4,
 "nbformat_minor": 2
}
